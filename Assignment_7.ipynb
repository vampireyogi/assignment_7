{
 "cells": [
  {
   "cell_type": "markdown",
   "id": "07506fbc",
   "metadata": {},
   "source": [
    "1. Create two int type variables, apply addition, subtraction, division and multiplications\n",
    "and store the results in variables. Then print the data in the following format by calling the\n",
    "variables:"
   ]
  },
  {
   "cell_type": "code",
   "execution_count": 1,
   "id": "6fe26db8",
   "metadata": {},
   "outputs": [
    {
     "name": "stdout",
     "output_type": "stream",
     "text": [
      "Addition:  55\n",
      "Subtraction:  45\n",
      "Multiplication:  250\n",
      "Division:  10.0\n"
     ]
    }
   ],
   "source": [
    "a=50\n",
    "b=5\n",
    "print(\"Addition: \",a+b)        #Addition\n",
    "print(\"Subtraction: \",a-b)     #Subtraction\n",
    "print(\"Multiplication: \",a*b)  #Multiplication\n",
    "print(\"Division: \",a/b)        #Division"
   ]
  },
  {
   "cell_type": "markdown",
   "id": "f835ca37",
   "metadata": {},
   "source": [
    "2. What is the difference between the following operators:\n",
    "(i) ‘/’(Division) & ‘//’(Floor Division)\n",
    " - Division operator(/) is use to divide a value by another whereas Floor division(//) is use to get real number integar value after division a value by another.\n",
    "(ii) ‘**’(Exponential) & ‘^’(XOR)\n",
    "- Exponential operator(**) denotes power of a value or exponential operator looks like multiplication but its a power sign (\n",
    "2**3 = 2*2*2) but XOR(^) is a bitwise operator used to take output from binaray numbers."
   ]
  },
  {
   "cell_type": "markdown",
   "id": "6eb4a323",
   "metadata": {},
   "source": [
    "3. List the logical operators.\n",
    "- Logical operators are :- and,or,not"
   ]
  },
  {
   "cell_type": "markdown",
   "id": "98ed4d63",
   "metadata": {},
   "source": [
    "4. Explain right shift operator and left shift operator with examples.\n",
    "- Right shift operator shifts the bits of a number to the right by a given number of places.\n",
    "- Left shift operator shifts the bits of a number to the left by a given number of places.\n"
   ]
  },
  {
   "cell_type": "code",
   "execution_count": 8,
   "id": "71bcb225",
   "metadata": {},
   "outputs": [
    {
     "name": "stdout",
     "output_type": "stream",
     "text": [
      "Right shift operator 2\n",
      "Left shift operator 40\n"
     ]
    }
   ],
   "source": [
    "#Example of right shift operator\n",
    "a_= 10 #Bin- 1010\n",
    "result= a_>>2\n",
    "print(\"Right shift operator\",result)  #Output is 2 because 10 in binary is 1010 and \n",
    "                                    #shifting it two places to the right gives 0010 which is 2 in binary\n",
    "    \n",
    "#Example of left shift operator\n",
    "result1=a_<<2\n",
    "print(\"Left shift operator\",result1) #Output is 40 because 10 in binary is 1010 and\n",
    "                                     #shiffting it two places to the left is 101000 which is 40 in binary"
   ]
  },
  {
   "cell_type": "markdown",
   "id": "b911447d",
   "metadata": {},
   "source": [
    "5. Create a list containing int type data of length 15. Then write a code to check if 10 is\n",
    "present in the list or not"
   ]
  },
  {
   "cell_type": "code",
   "execution_count": 10,
   "id": "2322892c",
   "metadata": {},
   "outputs": [
    {
     "name": "stdout",
     "output_type": "stream",
     "text": [
      "Data length: 15\n",
      "10 is in list\n"
     ]
    }
   ],
   "source": [
    "List=[1,2,3,4,5,6,7,8,9,10,11,12,13,14,15]\n",
    "print(\"Data length:\",len(List))\n",
    "if 10 in List:\n",
    "    print(\"10 is in list\")\n",
    "else:\n",
    "    print(\"10 is not in list\")"
   ]
  },
  {
   "cell_type": "markdown",
   "id": "f6305deb",
   "metadata": {},
   "source": []
  },
  {
   "cell_type": "markdown",
   "id": "a3de22f3",
   "metadata": {},
   "source": []
  },
  {
   "cell_type": "code",
   "execution_count": null,
   "id": "57bdec53",
   "metadata": {},
   "outputs": [],
   "source": []
  }
 ],
 "metadata": {
  "kernelspec": {
   "display_name": "Python 3 (ipykernel)",
   "language": "python",
   "name": "python3"
  },
  "language_info": {
   "codemirror_mode": {
    "name": "ipython",
    "version": 3
   },
   "file_extension": ".py",
   "mimetype": "text/x-python",
   "name": "python",
   "nbconvert_exporter": "python",
   "pygments_lexer": "ipython3",
   "version": "3.11.3"
  }
 },
 "nbformat": 4,
 "nbformat_minor": 5
}
